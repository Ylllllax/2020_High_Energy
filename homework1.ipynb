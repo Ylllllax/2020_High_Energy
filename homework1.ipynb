{
 "cells": [
  {
   "cell_type": "code",
   "execution_count": 1,
   "metadata": {},
   "outputs": [],
   "source": [
    "import numpy as np\n",
    "import math"
   ]
  },
  {
   "cell_type": "code",
   "execution_count": 2,
   "metadata": {},
   "outputs": [
    {
     "name": "stdout",
     "output_type": "stream",
     "text": [
      "sigma_01 = 2.3999999999999997e-19\n",
      "sigma_10 = 2.4e-25\n",
      "20\n",
      "t_01 = 3.775134544279111e-11\n",
      "t_1 = 0.9762857097579093\n",
      "t_10 = 0.9999760002879977\n",
      "21\n",
      "t_01 = 5.879282698245436e-105\n",
      "t_1 = 0.7866278610665535\n",
      "t_10 = 0.9997600287976961\n",
      "22\n",
      "t_01 = 0.0\n",
      "t_1 = 0.09071795328941251\n",
      "t_10 = 0.9976028776973818\n",
      "23\n",
      "t_01 = 0.0\n",
      "t_1 = 3.775134544279111e-11\n",
      "t_10 = 0.9762857097579093\n"
     ]
    }
   ],
   "source": [
    "# 2\n",
    "\n",
    "sigma_1 = 2.4*10**(-22)\n",
    "sigma_01 = sigma_1*0.1**(-3)\n",
    "sigma_10 = sigma_1*10**(-3)\n",
    "print('sigma_01 =', sigma_01)\n",
    "print('sigma_10 =', sigma_10)\n",
    "\n",
    "print('20')\n",
    "N = 10**20\n",
    "tau_01 = sigma_01*N\n",
    "t_01 = np.exp(-tau_01)\n",
    "print('t_01 =', t_01)\n",
    "tau_1 = sigma_1*N\n",
    "t_1 = np.exp(-tau_1)\n",
    "print('t_1 =', t_1)\n",
    "tau_10 = sigma_10*N\n",
    "t_10 = np.exp(-tau_10)\n",
    "print('t_10 =', t_10)\n",
    "\n",
    "print('21')\n",
    "N = 10**21\n",
    "tau_01 = sigma_01*N\n",
    "t_01 = np.exp(-tau_01)\n",
    "print('t_01 =', t_01)\n",
    "tau_1 = sigma_1*N\n",
    "t_1 = np.exp(-tau_1)\n",
    "print('t_1 =', t_1)\n",
    "tau_10 = sigma_10*N\n",
    "t_10 = np.exp(-tau_10)\n",
    "print('t_10 =', t_10)\n",
    "\n",
    "print('22')\n",
    "N = 10**22\n",
    "tau_01 = sigma_01*N\n",
    "t_01 = np.exp(-tau_01)\n",
    "print('t_01 =', t_01)\n",
    "tau_1 = sigma_1*N\n",
    "t_1 = np.exp(-tau_1)\n",
    "print('t_1 =', t_1)\n",
    "tau_10 = sigma_10*N\n",
    "t_10 = np.exp(-tau_10)\n",
    "print('t_10 =', t_10)\n",
    "\n",
    "print('23')\n",
    "N = 10**23\n",
    "tau_01 = sigma_01*N\n",
    "t_01 = np.exp(-tau_01)\n",
    "print('t_01 =', t_01)\n",
    "tau_1 = sigma_1*N\n",
    "t_1 = np.exp(-tau_1)\n",
    "print('t_1 =', t_1)\n",
    "tau_10 = sigma_10*N\n",
    "t_10 = np.exp(-tau_10)\n",
    "print('t_10 =', t_10)"
   ]
  },
  {
   "cell_type": "code",
   "execution_count": 3,
   "metadata": {},
   "outputs": [
    {
     "name": "stdout",
     "output_type": "stream",
     "text": [
      "N_H = 1.5037593984962405e+24\n"
     ]
    }
   ],
   "source": [
    "# 4\n",
    "\n",
    "sigmaT = 6.65*10**(-25)\n",
    "N_H = 1/sigmaT\n",
    "print('N_H =', N_H)"
   ]
  },
  {
   "cell_type": "code",
   "execution_count": 7,
   "metadata": {},
   "outputs": [
    {
     "name": "stdout",
     "output_type": "stream",
     "text": [
      "L_Edd = 1.82e+38\n",
      "T = 22481206.574646175\n",
      "E_peak_erg = 8.748786350589303e-09\n",
      "E_peak_keV = 5460.4833045745245\n"
     ]
    }
   ],
   "source": [
    "# 6\n",
    "\n",
    "L_E = 1.3*10**38*1.4   #erg/s\n",
    "print('L_Edd =', L_E)\n",
    "\n",
    "R = 10*1000*100   #cm\n",
    "sigma = 5.67*10**(-5)   #erg/(s cm**2 K**4)\n",
    "T = (L_E/(4*np.pi*(R**2)*sigma))**(1/4)\n",
    "print('T =', T)\n",
    "\n",
    "k = 1.38*10**(-16)   #erg/K\n",
    "E_p_erg = 2.82*k*T\n",
    "E_p_keV = (E_p_erg/1.6022)*(10**12)\n",
    "print('E_peak_erg =', E_p_erg)\n",
    "print('E_peak_keV =', E_p_keV)"
   ]
  },
  {
   "cell_type": "code",
   "execution_count": 5,
   "metadata": {},
   "outputs": [
    {
     "name": "stdout",
     "output_type": "stream",
     "text": [
      "1 kev\n",
      "d_sA = 0.010518577118411681\n",
      "d_sP = 0.0007184065490141423\n",
      "10 kev\n",
      "d_sA = 7.394613871044799\n",
      "d_sP = 0.03136120896657891\n",
      "100 kev\n",
      "d_sA = 258.3928755166616\n",
      "d_sP = 0.7599958409638008\n"
     ]
    }
   ],
   "source": [
    "# 7\n",
    "\n",
    "tau0 = 1\n",
    "taus = math.log(100,math.e)\n",
    "\n",
    "print('1 kev')\n",
    "d0_a = 0.00228408\n",
    "d0_p = 0.000156\n",
    "ds_a = taus*d0_a/tau0\n",
    "ds_p = taus*d0_p/tau0\n",
    "print('d_sA =', ds_a)\n",
    "print('d_sP =', ds_p)\n",
    "\n",
    "print('10 kev')\n",
    "d0_a = 1.60572\n",
    "d0_p = 0.00681\n",
    "ds_a = taus*d0_a/tau0\n",
    "ds_p = taus*d0_p/tau0\n",
    "print('d_sA =', ds_a)\n",
    "print('d_sP =', ds_p)\n",
    "\n",
    "print('100 kev')\n",
    "d0_a = 56.1093\n",
    "d0_p = 0.165031\n",
    "ds_a = taus*d0_a/tau0\n",
    "ds_p = taus*d0_p/tau0\n",
    "print('d_sA =', ds_a)\n",
    "print('d_sP =', ds_p)"
   ]
  },
  {
   "cell_type": "code",
   "execution_count": null,
   "metadata": {},
   "outputs": [],
   "source": []
  }
 ],
 "metadata": {
  "kernelspec": {
   "display_name": "Python 3",
   "language": "python",
   "name": "python3"
  },
  "language_info": {
   "codemirror_mode": {
    "name": "ipython",
    "version": 3
   },
   "file_extension": ".py",
   "mimetype": "text/x-python",
   "name": "python",
   "nbconvert_exporter": "python",
   "pygments_lexer": "ipython3",
   "version": "3.7.0"
  }
 },
 "nbformat": 4,
 "nbformat_minor": 2
}
