{
 "cells": [
  {
   "cell_type": "code",
   "execution_count": 1,
   "metadata": {},
   "outputs": [],
   "source": [
    "from astropy.table import Table\n",
    "import numpy as np\n",
    "import matplotlib.pyplot as plt\n",
    "from collections import Counter\n",
    "import os\n",
    "import pandas as pd"
   ]
  },
  {
   "cell_type": "code",
   "execution_count": 2,
   "metadata": {},
   "outputs": [],
   "source": [
    "'''\n",
    "找出 lgrb 中所有fits文件\n",
    "'''\n",
    "path = r'lgrb'\n",
    "files = os.listdir(path)\n",
    "files_fits = []\n",
    "for name in files:\n",
    "    keyword = 'fits'\n",
    "    if keyword in name:\n",
    "        files_fits.append(os.path.join(path, name))\n",
    "        \n",
    "'''\n",
    "读入 csv 以获取坐标信息\n",
    "'''\n",
    "for name in files:\n",
    "    keyword = 'csv'\n",
    "    if keyword in name:\n",
    "        file_csv = os.path.join(path, name)"
   ]
  },
  {
   "cell_type": "code",
   "execution_count": 3,
   "metadata": {},
   "outputs": [],
   "source": [
    "def event_time(df,r,center_x,center_y):   # \n",
    "    x=np.array(df['X'])\n",
    "    y=np.array(df['Y'])\n",
    "    value=0.\n",
    "    for i in range(len(x)):\n",
    "        if (x[i]-center_x)**2+(y[i]-center_y)**2<=r**2:\n",
    "            value=value+1.\n",
    "        else:pass\n",
    "    return value"
   ]
  },
  {
   "cell_type": "code",
   "execution_count": 4,
   "metadata": {},
   "outputs": [
    {
     "name": "stderr",
     "output_type": "stream",
     "text": [
      "WARNING: hdu= was not specified but multiple tables are present, reading in first available table (hdu=1) [astropy.io.fits.connect]\n",
      "F:\\Anaconda\\lib\\site-packages\\matplotlib\\cbook\\deprecation.py:107: MatplotlibDeprecationWarning: Adding an axes using the same arguments as a previous axes currently reuses the earlier instance.  In a future version, a new instance will always be created and returned.  Meanwhile, this warning can be suppressed, and the future behavior ensured, by passing a unique label to each axes instance.\n",
      "  warnings.warn(message, mplDeprecation, stacklevel=1)\n"
     ]
    },
    {
     "data": {
      "image/png": "[encoded data removed]",
      "text/plain": [
       "<Figure size 576x432 with 1 Axes>"
      ]
     },
     "metadata": {
      "needs_background": "light"
     },
     "output_type": "display_data"
    }
   ],
   "source": [
    "data_0 = Table.read(files_fits[0]).to_pandas()\n",
    "time_0 = np.array(data_0['TIME'])\n",
    "dt = 100   # 时间步长\n",
    "fig = plt.figure(figsize=[8,6])\n",
    "\n",
    "for m in range(len(files_fits)):\n",
    "    data = Table.read(files_fits[m]).to_pandas()\n",
    "    x = np.array(data['X'])\n",
    "    y = np.array(data['Y'])\n",
    "    PI=np.array(data['PI'])\n",
    "        \n",
    "    obs_info = pd.read_csv(file_csv)\n",
    "    source_point = [obs_info[' X'][m], obs_info[' Y'][m]]   # 源中心点坐标\n",
    "\n",
    "    x0, y0 = source_point[0], source_point[1]\n",
    "    r0 = 40   # 源半径\n",
    "    \n",
    "    time = np.array(data['TIME'])   # 提取时间信息\n",
    "\n",
    "    xgrade = np.arange(time.min(),time.max()+dt,dt)\n",
    "    value = []\n",
    "    for i in range(1,len(xgrade)):\n",
    "        df = data[(data['TIME']>=xgrade[i-1]) & (data['TIME']<xgrade[i])]\n",
    "        value.append(event_time(df,r0,x0,y0))\n",
    "    value = np.array(value)\n",
    "    rate = value/dt\n",
    "    xgrade = xgrade-time_0.min()\n",
    "    value_x = (xgrade[:-1]+xgrade[1:])/2.\n",
    "\n",
    "    ax = fig.add_subplot(111)\n",
    "    ax.set_xlabel('time(s)',fontsize=12)\n",
    "    ax.set_ylabel('count rate (cts/s)',fontsize=12)\n",
    "    ax.scatter(value_x,rate,c='blue',marker='o',s=1.5)\n",
    "    \n",
    "plt.show()"
   ]
  },
  {
   "cell_type": "code",
   "execution_count": null,
   "metadata": {},
   "outputs": [],
   "source": []
  }
 ],
 "metadata": {
  "kernelspec": {
   "display_name": "Python 3",
   "language": "python",
   "name": "python3"
  },
  "language_info": {
   "codemirror_mode": {
    "name": "ipython",
    "version": 3
   },
   "file_extension": ".py",
   "mimetype": "text/x-python",
   "name": "python",
   "nbconvert_exporter": "python",
   "pygments_lexer": "ipython3",
   "version": "3.7.0"
  }
 },
 "nbformat": 4,
 "nbformat_minor": 2
}
