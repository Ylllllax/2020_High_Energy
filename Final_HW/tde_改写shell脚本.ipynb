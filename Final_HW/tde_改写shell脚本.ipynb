{
 "cells": [
  {
   "cell_type": "code",
   "execution_count": 1,
   "metadata": {},
   "outputs": [],
   "source": [
    "from astropy.table import Table\n",
    "import numpy as np\n",
    "import matplotlib.pyplot as plt\n",
    "from collections import Counter\n",
    "import os\n",
    "import pandas as pd"
   ]
  },
  {
   "cell_type": "code",
   "execution_count": 2,
   "metadata": {},
   "outputs": [],
   "source": [
    "'''\n",
    "找出 tde 中所有fits文件\n",
    "'''\n",
    "path = r'tde'\n",
    "files = os.listdir(path)\n",
    "files_fits = []\n",
    "for name in files:\n",
    "    keyword = 'fits'\n",
    "    if keyword in name:\n",
    "        files_fits.append(os.path.join(path, name))\n",
    "\n",
    "for name in files:\n",
    "    keyword = 'csv'\n",
    "    if keyword in name:\n",
    "        file_csv = os.path.join(path, name)\n",
    "\n",
    "\n",
    "file_obj = open('lgrb_01.txt',encoding='utf-8')\n",
    "all_lines = file_obj.readlines()"
   ]
  },
  {
   "cell_type": "code",
   "execution_count": 3,
   "metadata": {},
   "outputs": [],
   "source": [
    "for m in range(len(files_fits)):\n",
    "\n",
    "    obs_info = pd.read_csv(file_csv)\n",
    "    back_info = pd.read_csv('back_point.csv')\n",
    "    source_point = [obs_info[' X'][m], obs_info[' Y'][m]]   # 源中心点坐标\n",
    "    back_point = [back_info['x_back'][m], back_info['y_back'][m]]  #背景中心点坐标\n",
    "    Obs_ID = obs_info[' Observation ID'][m] \n",
    "    x0, y0 = source_point[0], source_point[1]\n",
    "    r0 = 20   # 源半径\n",
    "    xb, yb = back_point[0], back_point[1]\n",
    "    rb = 20   # 背景半径\n",
    "\n",
    "    shell_name = 'tde_shell/tde_'+str(m)+'.sh'\n",
    "\n",
    "    if os.path.exists(shell_name):\n",
    "        os.remove(shell_name)\n",
    "    file_write_obj = open(shell_name, 'w', newline='\\n')  #注意这里指定换行符为 '\\n'，才能在linux系统正常运行，windows默认换行符为 '\\r\\n'!\n",
    "    for i in range(len(all_lines)):\n",
    "        if '5001423001' in all_lines[i]:\n",
    "            file_write_obj.writelines('eventfits=$(echo $(ls *'+str(Obs_ID)+'*))')\n",
    "            file_write_obj.write('\\n')\n",
    "        elif '1522' in all_lines[i]:\n",
    "            file_write_obj.writelines('dmcopy \"$eventfits[x='+str(int(x0-r0))+':'+str(int(x0+r0))+',y='+str(int(y0-r0))+':'+str(int(y0+r0))+']\" source'+str(int(m))+'.fits clobber=yes')\n",
    "            file_write_obj.write('\\n')\n",
    "        elif '3080' in all_lines[i]:\n",
    "            file_write_obj.writelines('dmcopy \"$eventfits[x='+str(int(xb-rb))+':'+str(int(xb+rb))+',y='+str(int(yb-rb))+':'+str(int(yb+rb))+']\" back'+str(int(m))+'.fits clobber=yes')\n",
    "            file_write_obj.write('\\n')\n",
    "        else:\n",
    "            file_write_obj.writelines(all_lines[i])\n",
    "\n",
    "    file_write_obj.close()"
   ]
  },
  {
   "cell_type": "code",
   "execution_count": null,
   "metadata": {},
   "outputs": [],
   "source": []
  }
 ],
 "metadata": {
  "kernelspec": {
   "display_name": "Python 3",
   "language": "python",
   "name": "python3"
  },
  "language_info": {
   "codemirror_mode": {
    "name": "ipython",
    "version": 3
   },
   "file_extension": ".py",
   "mimetype": "text/x-python",
   "name": "python",
   "nbconvert_exporter": "python",
   "pygments_lexer": "ipython3",
   "version": "3.7.0"
  }
 },
 "nbformat": 4,
 "nbformat_minor": 2
}
