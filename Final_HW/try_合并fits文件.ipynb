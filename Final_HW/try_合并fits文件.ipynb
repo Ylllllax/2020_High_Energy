{
 "cells": [
  {
   "cell_type": "code",
   "execution_count": 1,
   "metadata": {},
   "outputs": [],
   "source": [
    "from astropy.table import Table\n",
    "from astropy.table import vstack\n",
    "import astropy.io.fits as fits "
   ]
  },
  {
   "cell_type": "code",
   "execution_count": 2,
   "metadata": {},
   "outputs": [
    {
     "name": "stderr",
     "output_type": "stream",
     "text": [
      "WARNING: hdu= was not specified but multiple tables are present, reading in first available table (hdu=1) [astropy.io.fits.connect]\n",
      "WARNING: MergeConflictWarning: Cannot merge meta key 'TSTART' types <class 'float'> and <class 'float'>, choosing TSTART=111957480.0000197 [astropy.utils.metadata]\n",
      "WARNING: MergeConflictWarning: Cannot merge meta key 'TSTOP' types <class 'float'> and <class 'float'>, choosing TSTOP=111959220.4500197 [astropy.utils.metadata]\n",
      "WARNING: MergeConflictWarning: Cannot merge meta key 'EXPOSURE' types <class 'float'> and <class 'float'>, choosing EXPOSURE=1740.45000000298 [astropy.utils.metadata]\n",
      "WARNING: MergeConflictWarning: Cannot merge meta key 'TP1_1' types <class 'float'> and <class 'float'>, choosing TP1_1=-0.9999372859000808 [astropy.utils.metadata]\n",
      "WARNING: MergeConflictWarning: Cannot merge meta key 'TP1_2' types <class 'float'> and <class 'float'>, choosing TP1_2=-0.01119929760208091 [astropy.utils.metadata]\n",
      "WARNING: MergeConflictWarning: Cannot merge meta key 'TP2_1' types <class 'float'> and <class 'float'>, choosing TP2_1=-0.01119929760208091 [astropy.utils.metadata]\n",
      "WARNING: MergeConflictWarning: Cannot merge meta key 'TP2_2' types <class 'float'> and <class 'float'>, choosing TP2_2=0.9999372859000808 [astropy.utils.metadata]\n"
     ]
    }
   ],
   "source": [
    "# Read in the fits table you want to append \n",
    "append_table = Table.read('lgrb/05001413001_40.fits', format='fits')\n",
    "\n",
    "# Read in the large table you want to append to \n",
    "base_table = Table.read('lgrb/05001415001_40.fits', format='fits')\n",
    "\n",
    "# Use Astropy's 'vstack' function and overwrite the file \n",
    "concat_table = vstack([base_table,append_table])\n",
    "concat_table.write('new.fits', format='fits', overwrite=True)"
   ]
  },
  {
   "cell_type": "code",
   "execution_count": 3,
   "metadata": {},
   "outputs": [
    {
     "name": "stdout",
     "output_type": "stream",
     "text": [
      "(111957480.00001965, 3816, 2480, 285)\n",
      "424393\n"
     ]
    }
   ],
   "source": [
    "hdu = fits.open('lgrb/05001413001_40.fits')\n",
    "header = hdu[1].header\n",
    "data = hdu[1].data\n",
    "print(data[0])\n",
    "print(len(data))"
   ]
  },
  {
   "cell_type": "code",
   "execution_count": 4,
   "metadata": {},
   "outputs": [
    {
     "name": "stdout",
     "output_type": "stream",
     "text": [
      "(111961800.00001991, 1843, 3914, 79)\n",
      "349381\n"
     ]
    }
   ],
   "source": [
    "hdu = fits.open('lgrb/05001415001_40.fits')\n",
    "header = hdu[1].header\n",
    "data = hdu[1].data\n",
    "print(data[0])\n",
    "print(len(data))"
   ]
  },
  {
   "cell_type": "code",
   "execution_count": 5,
   "metadata": {},
   "outputs": [
    {
     "name": "stdout",
     "output_type": "stream",
     "text": [
      "(111961800.00001991, 1843, 3914, 79)\n",
      "773774\n"
     ]
    }
   ],
   "source": [
    "hdu = fits.open('new.fits')\n",
    "header = hdu[1].header\n",
    "data = hdu[1].data\n",
    "print(data[0])\n",
    "print(len(data))"
   ]
  },
  {
   "cell_type": "code",
   "execution_count": null,
   "metadata": {},
   "outputs": [],
   "source": []
  }
 ],
 "metadata": {
  "kernelspec": {
   "display_name": "Python 3",
   "language": "python",
   "name": "python3"
  },
  "language_info": {
   "codemirror_mode": {
    "name": "ipython",
    "version": 3
   },
   "file_extension": ".py",
   "mimetype": "text/x-python",
   "name": "python",
   "nbconvert_exporter": "python",
   "pygments_lexer": "ipython3",
   "version": "3.7.0"
  }
 },
 "nbformat": 4,
 "nbformat_minor": 2
}
