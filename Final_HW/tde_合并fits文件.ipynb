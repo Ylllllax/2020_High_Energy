{
 "cells": [
  {
   "cell_type": "code",
   "execution_count": 1,
   "metadata": {},
   "outputs": [],
   "source": [
    "from astropy.table import Table\n",
    "from astropy.table import vstack\n",
    "import astropy.io.fits as fits \n",
    "import numpy as np\n",
    "import os\n",
    "import warnings"
   ]
  },
  {
   "cell_type": "code",
   "execution_count": 2,
   "metadata": {},
   "outputs": [],
   "source": [
    "'''\n",
    "找出 源fits 和 背景fits 中所有fits文件\n",
    "'''\n",
    "\n",
    "path1 = r'tdefits_source'\n",
    "files = os.listdir(path1)\n",
    "files_source = []\n",
    "for name in files:\n",
    "    keyword = 'fits'\n",
    "    if keyword in name:\n",
    "        files_source.append(os.path.join(path1, name))\n",
    "\n",
    "\n",
    "path2 = r'tdefits_back'\n",
    "files = os.listdir(path2)\n",
    "files_back = []\n",
    "for name in files:\n",
    "    keyword = 'fits'\n",
    "    if keyword in name:\n",
    "        files_back.append(os.path.join(path2, name))        "
   ]
  },
  {
   "cell_type": "code",
   "execution_count": 3,
   "metadata": {},
   "outputs": [
    {
     "name": "stdout",
     "output_type": "stream",
     "text": [
      "       TIME         X   Y    PI\n",
      "        s           s  pix     \n",
      "------------------ --- ---- ---\n",
      "110823973.10001996 843 3567  78\n",
      "110824387.60001996 873 3585  63\n",
      "110824444.20001997 858 3577  39\n",
      "110824514.55001996 857 3600  56\n",
      "110824526.45001997 836 3590 242\n",
      "110824739.00001997 868 3570  55\n",
      "110825399.00001997 861 3579  54\n",
      "[7]\n"
     ]
    },
    {
     "name": "stderr",
     "output_type": "stream",
     "text": [
      "WARNING: hdu= was not specified but multiple tables are present, reading in first available table (hdu=1) [astropy.io.fits.connect]\n",
      "WARNING: VerifyWarning: Invalid keyword for column 1: Coordinate/axis type option (TCTYPn) must be a string of atmost 8 characters (got 'TIME_COORD'). The invalid keyword will be ignored for the purpose of formatting this column. [astropy.io.fits.column]\n"
     ]
    }
   ],
   "source": [
    "'''\n",
    "选择基础fits（提供头文件等信息）\n",
    "'''\n",
    "base_table = Table.read(files_source[0], format='fits')\n",
    "n = [len(base_table)]\n",
    "print (base_table)\n",
    "print (n)"
   ]
  },
  {
   "cell_type": "code",
   "execution_count": 4,
   "metadata": {},
   "outputs": [
    {
     "name": "stderr",
     "output_type": "stream",
     "text": [
      "WARNING: hdu= was not specified but multiple tables are present, reading in first available table (hdu=1) [astropy.io.fits.connect]\n",
      "WARNING: VerifyWarning: Invalid keyword for column 1: Coordinate/axis type option (TCTYPn) must be a string of atmost 8 characters (got 'TIME_COORD'). The invalid keyword will be ignored for the purpose of formatting this column. [astropy.io.fits.column]\n"
     ]
    },
    {
     "name": "stdout",
     "output_type": "stream",
     "text": [
      "3111\n",
      "3111\n"
     ]
    }
   ],
   "source": [
    "base_table = Table.read(files_source[0], format='fits')\n",
    "n = [len(base_table)]\n",
    "\n",
    "'''\n",
    "将剩下的fits文件叠加在基础fits之上\n",
    "'''\n",
    "warnings.filterwarnings('ignore')\n",
    "for i in range(1, len(files_source)):\n",
    "    append_table = Table.read(files_source[i], format='fits')\n",
    "    n.append(len(append_table))\n",
    "    base_table = vstack([base_table,append_table])\n",
    "\n",
    "print(len(base_table))\n",
    "print(np.sum(n))   # 检查最后得到的fits文件长度是否和各fits文件长度和相同\n",
    "\n",
    "base_table.write('tdesource_total.fits', format='fits', overwrite=True)"
   ]
  },
  {
   "cell_type": "code",
   "execution_count": 5,
   "metadata": {},
   "outputs": [
    {
     "name": "stdout",
     "output_type": "stream",
     "text": [
      "250\n",
      "250\n"
     ]
    }
   ],
   "source": [
    "'''\n",
    "对背景fits进行同样的过程得到总的背景fits\n",
    "'''\n",
    "\n",
    "base_table = Table.read(files_back[0], format='fits')\n",
    "n = [len(base_table)]\n",
    "\n",
    "warnings.filterwarnings('ignore')\n",
    "for i in range(1, len(files_back)):\n",
    "    append_table = Table.read(files_back[i], format='fits')\n",
    "    n.append(len(append_table))\n",
    "    base_table = vstack([base_table,append_table])\n",
    "\n",
    "print(len(base_table))\n",
    "print(np.sum(n))   # 检查最后得到的fits文件长度是否和各fits文件长度和相同\n",
    "\n",
    "base_table.write('tdeback_total.fits', format='fits', overwrite=True)"
   ]
  },
  {
   "cell_type": "code",
   "execution_count": null,
   "metadata": {},
   "outputs": [],
   "source": []
  }
 ],
 "metadata": {
  "kernelspec": {
   "display_name": "Python 3",
   "language": "python",
   "name": "python3"
  },
  "language_info": {
   "codemirror_mode": {
    "name": "ipython",
    "version": 3
   },
   "file_extension": ".py",
   "mimetype": "text/x-python",
   "name": "python",
   "nbconvert_exporter": "python",
   "pygments_lexer": "ipython3",
   "version": "3.7.0"
  }
 },
 "nbformat": 4,
 "nbformat_minor": 2
}
