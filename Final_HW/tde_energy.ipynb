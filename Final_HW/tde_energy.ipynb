{
 "cells": [
  {
   "cell_type": "code",
   "execution_count": 1,
   "metadata": {},
   "outputs": [],
   "source": [
    "import matplotlib.pyplot as plt\n",
    "import pandas as pd\n",
    "from astropy.table import Table\n",
    "import numpy as np\n",
    "from scipy.interpolate import interp1d\n",
    "import os"
   ]
  },
  {
   "cell_type": "code",
   "execution_count": 2,
   "metadata": {},
   "outputs": [],
   "source": [
    "def read_txt(path):\n",
    "    f=open(path)\n",
    "    st=f.read()\n",
    "    f.close()\n",
    "    a=st.split('\\n')\n",
    "    x=[]\n",
    "    x_err=[]\n",
    "    y=[]\n",
    "    y_err=[]\n",
    "    for i in range(3,len(a)-1):\n",
    "        b=a[i].split(' ')\n",
    "        x.append(float(b[0]))\n",
    "        x_err.append(float(b[1]))\n",
    "        y.append(float(b[2]))\n",
    "        y_err.append(float(b[3]))\n",
    "    x=np.array(x)\n",
    "    y=np.array(y)\n",
    "    x_err=np.array(x_err)\n",
    "    y_err=np.array(y_err)\n",
    "    return x,x_err,y,y_err"
   ]
  },
  {
   "cell_type": "code",
   "execution_count": 3,
   "metadata": {},
   "outputs": [],
   "source": [
    "path_0 = r'energy_tde/'\n",
    "files = os.listdir(path_0)\n",
    "files_txt = []\n",
    "for name in files:\n",
    "    keyword = 'txt'\n",
    "    if keyword in name:\n",
    "        files_txt.append(path_0+name)"
   ]
  },
  {
   "cell_type": "code",
   "execution_count": 28,
   "metadata": {},
   "outputs": [
    {
     "data": {
      "image/png": "[encoded data removed]",
      "text/plain": [
       "<Figure size 576x432 with 1 Axes>"
      ]
     },
     "metadata": {
      "needs_background": "light"
     },
     "output_type": "display_data"
    }
   ],
   "source": [
    "if __name__=='__main__':\n",
    "    public_path=r'energy_tde/energy_'\n",
    "    energy=np.arange(0,8.2,0.2)\n",
    "    E_e=np.zeros(len(energy)-1)\n",
    "    Count=np.zeros(len(energy)-1)\n",
    "    Count_e=np.zeros(len(energy)-1)\n",
    "    for i in range(1,191):\n",
    "        if i<10:\n",
    "            path=public_path+'00'+str(i)+'.txt'\n",
    "        elif i<100:\n",
    "            path=public_path+'0'+str(i)+'.txt'\n",
    "        else:\n",
    "            path=public_path+str(i)+'.txt'\n",
    "        \n",
    "        if path in files_txt:\n",
    "            x,x_err,y,y_err=read_txt(path)\n",
    "            counts=[]\n",
    "            counts_err=[]\n",
    "            energy_e=[]\n",
    "            for j in range(1,len(energy)):\n",
    "                x_list = []\n",
    "                value1=0\n",
    "                value2=0\n",
    "                value3=0\n",
    "                for m in range(len(x)):\n",
    "                    if x[m] >= energy[j-1] and x[m] < energy[j]:\n",
    "                        x_list.append(x[m])\n",
    "                        value1 = value1+y[m]\n",
    "                        value2 = value2+(y_err[m]**2)\n",
    "                        value3 = value3+(x_err[m]**2)\n",
    "                counts.append(value1)\n",
    "                counts_err.append(value2)\n",
    "                #if len(x_list) == 0:\n",
    "                #    energy_e.append(0)\n",
    "                #else:\n",
    "                #    energy_e.append(np.std(x_list))\n",
    "                energy_e.append(value3)\n",
    "            energy_e = np.array(energy_e)\n",
    "            counts = np.array(counts)\n",
    "            counts_err = np.array(counts_err)\n",
    "            E_e = E_e+energy_e\n",
    "            Count = Count+counts\n",
    "            Count_e = Count_e+counts_err\n",
    "    E = (energy[1:]+energy[:-1])/2.\n",
    "    fig = plt.figure(figsize=[8,6])\n",
    "    ax = fig.add_subplot(111)\n",
    "#    ax.scatter(E,Count,c='blue',marker='o',s=3)\n",
    "    ax.errorbar(E,Count/190, yerr=(Count_e/190)**0.5, xerr=(E_e/190)**0.5, fmt=',', color='b', elinewidth=1, capsize=2)\n",
    "    ax.set_xlabel('Energy (kev)',fontsize=12)\n",
    "    ax.set_yscale('log')\n",
    "    ax.set_xscale('log')\n",
    "#    ax.set_ylim(10**(-2),10**3)\n",
    "    ax.set_xlim(10**(-1),10**1)\n",
    "    ax.set_ylabel('normalized counts $s^{-1}$ $kev^{-1}$',fontsize=12)\n",
    "#    ax.set_ylim(0,12)\n",
    "    plt.show()"
   ]
  },
  {
   "cell_type": "code",
   "execution_count": 26,
   "metadata": {},
   "outputs": [
    {
     "name": "stdout",
     "output_type": "stream",
     "text": [
      "2.25 3.8134188336842105e-05 0.00019411688983389858 0.29065825095513076\n"
     ]
    }
   ],
   "source": [
    "print (E[4],Count[4]/190, (Count_e[4]/190)**0.5, E_e[4]/190)"
   ]
  },
  {
   "cell_type": "code",
   "execution_count": 27,
   "metadata": {},
   "outputs": [
    {
     "name": "stdout",
     "output_type": "stream",
     "text": [
      "0.636181474 0.01157251 0.0240032431 0.0240032431\n"
     ]
    }
   ],
   "source": [
    "print (x[9],x_err[9],y[9],y_err[9])"
   ]
  },
  {
   "cell_type": "code",
   "execution_count": null,
   "metadata": {},
   "outputs": [],
   "source": []
  }
 ],
 "metadata": {
  "kernelspec": {
   "display_name": "Python 3",
   "language": "python",
   "name": "python3"
  },
  "language_info": {
   "codemirror_mode": {
    "name": "ipython",
    "version": 3
   },
   "file_extension": ".py",
   "mimetype": "text/x-python",
   "name": "python",
   "nbconvert_exporter": "python",
   "pygments_lexer": "ipython3",
   "version": "3.7.0"
  }
 },
 "nbformat": 4,
 "nbformat_minor": 2
}
