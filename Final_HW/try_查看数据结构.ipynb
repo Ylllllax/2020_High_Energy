{
 "cells": [
  {
   "cell_type": "code",
   "execution_count": 1,
   "metadata": {},
   "outputs": [],
   "source": [
    "import numpy as np\n",
    "import matplotlib.pyplot as plt\n",
    "import astropy.io.fits as fits \n",
    "import pandas as pd"
   ]
  },
  {
   "cell_type": "code",
   "execution_count": 2,
   "metadata": {},
   "outputs": [],
   "source": [
    "'''\n",
    "短暴\n",
    "'''\n",
    "\n",
    "hdu = fits.open('sgrb/36.fits')   # 读入数据\n",
    "header = hdu[1].header\n",
    "data = hdu[1].data"
   ]
  },
  {
   "cell_type": "code",
   "execution_count": 3,
   "metadata": {},
   "outputs": [
    {
     "data": {
      "text/plain": [
       "XTENSION= 'BINTABLE'           / binary table extension                         \n",
       "BITPIX  =                    8 / array data type                                \n",
       "NAXIS   =                    2 / number of array dimensions                     \n",
       "NAXIS1  =                   20 / length of dimension 1                          \n",
       "NAXIS2  =                76363 / length of dimension 2                          \n",
       "PCOUNT  =                    0 / number of group parameters                     \n",
       "GCOUNT  =                    1 / number of groups                               \n",
       "TFIELDS =                    4 / number of table fields                         \n",
       "TTYPE1  = 'TIME    '                                                            \n",
       "TFORM1  = '1D      '                                                            \n",
       "TUNIT1  = 's       '                                                            \n",
       "TTYPE2  = 'X       '                                                            \n",
       "TFORM2  = '1J      '                                                            \n",
       "TUNIT2  = 'pixel   '                                                            \n",
       "TLMIN2  =                    0 / Minimum value for X column                     \n",
       "TLMAX2  =                 4095 / Maximum value for X column                     \n",
       "TTYPE3  = 'Y       '                                                            \n",
       "TFORM3  = '1J      '                                                            \n",
       "TUNIT3  = 'pixel   '                                                            \n",
       "TLMIN3  =                    0 / Minimum value for Y column                     \n",
       "TLMAX3  =                 4095 / Maximum value for Y column                     \n",
       "TTYPE4  = 'PI      '                                                            \n",
       "TFORM4  = '1J      '                                                            \n",
       "TLMIN4  =                    0 / Minimum legal value in the column              \n",
       "TLMAX4  =                 1023 / Maximum legal value in the column              \n",
       "TIMESYS = 'TT      '           / Time system                                    \n",
       "MJDREFI =                58680 / Reference MJD Integer part                     \n",
       "MJDREFF =   0.7694444442167878 / Reference MJD fractional                       \n",
       "TIMEREF = 'LOCAL   '                                                            \n",
       "TASSIGN = 'SATELLITE'                                                           \n",
       "TIMEUNIT= 's       '           / Time unit                                      \n",
       "TSTART  =    116163300.0500196 / Start time                                     \n",
       "TSTOP   =    116165039.9000196 / Stop time                                      \n",
       "EXPOSURE=    1739.850000008941 / Total exposure                                 \n",
       "TELESCOP= 'EP      '           / Telescope name                                 \n",
       "INSTRUME= 'WXT8    '           / Instrument name                                \n",
       "DETECTOR= 'CMOS3   '           / Detector name                                  \n",
       "DATAMODE= 'PHOTON  '           / Instrument operating mode                      \n",
       "TCTYP2  = 'RA---TAN'           / Coordinate projection TAN                      \n",
       "TCTYP3  = 'DEC--TAN'           / Coordinate projection TAN                      \n",
       "TCDLT2  =              0.00229 / X image scale (deg/pixel)                      \n",
       "TCDLT3  =              0.00229 / Y image scale (deg/pixel)                      \n",
       "TCRPX2  =               2048.0 / X image reference pixel                        \n",
       "TCRPX3  =               2048.0 / Y image reference pixel                        \n",
       "TCRVL2  =    208.8345378209598 / X image reference coords (deg)                 \n",
       "TCRVL3  =    31.04829769244921 / y image reference coords (deg)                 \n",
       "TP1_1   =  -0.9438690474006237 / Transformation matrix                          \n",
       "TP1_2   =   0.3303198773295958 / Transformation matrix                          \n",
       "TP2_1   =   0.3303198773295958 / Transformation matrix                          \n",
       "TP2_2   =   0.9438690474006237 / Transformation matrix                          \n",
       "EXTNAME = 'EVENTS  '           / extension name                                 "
      ]
     },
     "execution_count": 3,
     "metadata": {},
     "output_type": "execute_result"
    }
   ],
   "source": [
    "header"
   ]
  },
  {
   "cell_type": "code",
   "execution_count": 4,
   "metadata": {},
   "outputs": [
    {
     "data": {
      "text/plain": [
       "FITS_rec([(1.1616330e+08, 1000,  298, 266),\n",
       "          (1.1616330e+08, 3457,  577,  27),\n",
       "          (1.1616330e+08, 3385, 3024, 388), ...,\n",
       "          (1.1616504e+08, 3155,  450, 463),\n",
       "          (1.1616504e+08, 2780, 2712, 691),\n",
       "          (1.1616504e+08, 3752, 3719, 182)],\n",
       "         dtype=(numpy.record, [('TIME', '>f8'), ('X', '>i4'), ('Y', '>i4'), ('PI', '>i4')]))"
      ]
     },
     "execution_count": 4,
     "metadata": {},
     "output_type": "execute_result"
    }
   ],
   "source": [
    "data   # time x y PI"
   ]
  },
  {
   "cell_type": "code",
   "execution_count": 5,
   "metadata": {},
   "outputs": [
    {
     "data": {
      "text/plain": [
       "76363"
      ]
     },
     "execution_count": 5,
     "metadata": {},
     "output_type": "execute_result"
    }
   ],
   "source": [
    "len(data)"
   ]
  },
  {
   "cell_type": "code",
   "execution_count": 6,
   "metadata": {},
   "outputs": [],
   "source": [
    "'''\n",
    "长暴\n",
    "'''\n",
    "\n",
    "hdu = fits.open('lgrb/05001413001_40.fits')\n",
    "header = hdu[1].header\n",
    "data = hdu[1].data"
   ]
  },
  {
   "cell_type": "code",
   "execution_count": 7,
   "metadata": {},
   "outputs": [
    {
     "data": {
      "text/plain": [
       "XTENSION= 'BINTABLE'           / binary table extension                         \n",
       "BITPIX  =                    8 / array data type                                \n",
       "NAXIS   =                    2 / number of array dimensions                     \n",
       "NAXIS1  =                   20 / length of dimension 1                          \n",
       "NAXIS2  =               424393 / length of dimension 2                          \n",
       "PCOUNT  =                    0 / number of group parameters                     \n",
       "GCOUNT  =                    1 / number of groups                               \n",
       "TFIELDS =                    4 / number of table fields                         \n",
       "TTYPE1  = 'TIME    '                                                            \n",
       "TFORM1  = '1D      '                                                            \n",
       "TUNIT1  = 's       '                                                            \n",
       "TTYPE2  = 'X       '                                                            \n",
       "TFORM2  = '1J      '                                                            \n",
       "TUNIT2  = 'pixel   '                                                            \n",
       "TLMIN2  =                    0 / Minimum value for X column                     \n",
       "TLMAX2  =                 4095 / Maximum value for X column                     \n",
       "TTYPE3  = 'Y       '                                                            \n",
       "TFORM3  = '1J      '                                                            \n",
       "TUNIT3  = 'pixel   '                                                            \n",
       "TLMIN3  =                    0 / Minimum value for Y column                     \n",
       "TLMAX3  =                 4095 / Maximum value for Y column                     \n",
       "TTYPE4  = 'PI      '                                                            \n",
       "TFORM4  = '1J      '                                                            \n",
       "TLMIN4  =                    0 / Minimum legal value in the column              \n",
       "TLMAX4  =                 1023 / Maximum legal value in the column              \n",
       "TIMESYS = 'TT      '           / Time system                                    \n",
       "MJDREFI =                58680 / Reference MJD Integer part                     \n",
       "MJDREFF =   0.7694444442167878 / Reference MJD fractional                       \n",
       "TIMEREF = 'LOCAL   '                                                            \n",
       "TASSIGN = 'SATELLITE'                                                           \n",
       "TIMEUNIT= 's       '           / Time unit                                      \n",
       "TSTART  =    111957480.0000197 / Start time                                     \n",
       "TSTOP   =    111959220.4500197 / Stop time                                      \n",
       "EXPOSURE=     1740.45000000298 / Total exposure                                 \n",
       "TELESCOP= 'EP      '           / Telescope name                                 \n",
       "INSTRUME= 'WXT9    '           / Instrument name                                \n",
       "DETECTOR= 'CMOS3   '           / Detector name                                  \n",
       "DATAMODE= 'PHOTON  '           / Instrument operating mode                      \n",
       "TCTYP2  = 'RA---TAN'           / Coordinate projection TAN                      \n",
       "TCTYP3  = 'DEC--TAN'           / Coordinate projection TAN                      \n",
       "TCDLT2  =              0.00229 / X image scale (deg/pixel)                      \n",
       "TCDLT3  =              0.00229 / Y image scale (deg/pixel)                      \n",
       "TCRPX2  =               2048.0 / X image reference pixel                        \n",
       "TCRPX3  =               2048.0 / Y image reference pixel                        \n",
       "TCRVL2  =    120.6454799652855 / X image reference coords (deg)                 \n",
       "TCRVL3  =    7.612886348297627 / y image reference coords (deg)                 \n",
       "TP1_1   =  -0.9999372859000808 / Transformation matrix                          \n",
       "TP1_2   = -0.01119929760208091 / Transformation matrix                          \n",
       "TP2_1   = -0.01119929760208091 / Transformation matrix                          \n",
       "TP2_2   =   0.9999372859000808 / Transformation matrix                          \n",
       "EXTNAME = 'EVENTS  '           / extension name                                 "
      ]
     },
     "execution_count": 7,
     "metadata": {},
     "output_type": "execute_result"
    }
   ],
   "source": [
    "header"
   ]
  },
  {
   "cell_type": "code",
   "execution_count": 8,
   "metadata": {},
   "outputs": [
    {
     "data": {
      "text/plain": [
       "FITS_rec([(1.1195748e+08, 3816, 2480, 285),\n",
       "          (1.1195748e+08, 3122, 1771, 652),\n",
       "          (1.1195748e+08, 2239, 1381, 707), ...,\n",
       "          (1.1195922e+08, 2100, 2247,  44),\n",
       "          (1.1195922e+08, 2026,  669, 113),\n",
       "          (1.1195922e+08, 1551,  359, 102)],\n",
       "         dtype=(numpy.record, [('TIME', '>f8'), ('X', '>i4'), ('Y', '>i4'), ('PI', '>i4')]))"
      ]
     },
     "execution_count": 8,
     "metadata": {},
     "output_type": "execute_result"
    }
   ],
   "source": [
    "data"
   ]
  },
  {
   "cell_type": "code",
   "execution_count": 9,
   "metadata": {},
   "outputs": [
    {
     "data": {
      "text/plain": [
       "424393"
      ]
     },
     "execution_count": 9,
     "metadata": {},
     "output_type": "execute_result"
    }
   ],
   "source": [
    "len(data)"
   ]
  },
  {
   "cell_type": "code",
   "execution_count": 10,
   "metadata": {},
   "outputs": [],
   "source": [
    "'''\n",
    "潮汐瓦解\n",
    "'''\n",
    "\n",
    "hdu = fits.open('tde/05000826001_18.fits')\n",
    "header = hdu[1].header\n",
    "data = hdu[1].data"
   ]
  },
  {
   "cell_type": "code",
   "execution_count": 11,
   "metadata": {},
   "outputs": [
    {
     "data": {
      "text/plain": [
       "XTENSION= 'BINTABLE'           / binary table extension                         \n",
       "BITPIX  =                    8 / array data type                                \n",
       "NAXIS   =                    2 / number of array dimensions                     \n",
       "NAXIS1  =                   20 / length of dimension 1                          \n",
       "NAXIS2  =                18296 / length of dimension 2                          \n",
       "PCOUNT  =                    0 / number of group parameters                     \n",
       "GCOUNT  =                    1 / number of groups                               \n",
       "TFIELDS =                    4 / number of table fields                         \n",
       "TTYPE1  = 'TIME    '                                                            \n",
       "TFORM1  = '1D      '                                                            \n",
       "TUNIT1  = 's       '                                                            \n",
       "TTYPE2  = 'X       '                                                            \n",
       "TFORM2  = '1J      '                                                            \n",
       "TUNIT2  = 'pixel   '                                                            \n",
       "TLMIN2  =                    0 / Minimum value for X column                     \n",
       "TLMAX2  =                 4095 / Maximum value for X column                     \n",
       "TTYPE3  = 'Y       '                                                            \n",
       "TFORM3  = '1J      '                                                            \n",
       "TUNIT3  = 'pixel   '                                                            \n",
       "TLMIN3  =                    0 / Minimum value for Y column                     \n",
       "TLMAX3  =                 4095 / Maximum value for Y column                     \n",
       "TTYPE4  = 'PI      '                                                            \n",
       "TFORM4  = '1J      '                                                            \n",
       "TLMIN4  =                    0 / Minimum legal value in the column              \n",
       "TLMAX4  =                 1023 / Maximum legal value in the column              \n",
       "TIMESYS = 'TT      '           / Time system                                    \n",
       "MJDREFI =                58680 / Reference MJD Integer part                     \n",
       "MJDREFF =   0.7694444442167878 / Reference MJD fractional                       \n",
       "TIMEREF = 'LOCAL   '                                                            \n",
       "TASSIGN = 'SATELLITE'                                                           \n",
       "TIMEUNIT= 's       '           / Time unit                                      \n",
       "TSTART  =      110823960.00002 / Start time                                     \n",
       "TSTOP   =      110825759.60002 / Stop time                                      \n",
       "EXPOSURE=     1799.59999999404 / Total exposure                                 \n",
       "TELESCOP= 'EP      '           / Telescope name                                 \n",
       "INSTRUME= 'WXT4    '           / Instrument name                                \n",
       "DETECTOR= 'CMOS1   '           / Detector name                                  \n",
       "DATAMODE= 'PHOTON  '           / Instrument operating mode                      \n",
       "TCTYP2  = 'RA---TAN'           / Coordinate projection TAN                      \n",
       "TCTYP3  = 'DEC--TAN'           / Coordinate projection TAN                      \n",
       "TCDLT2  =              0.00229 / X image scale (deg/pixel)                      \n",
       "TCDLT3  =              0.00229 / Y image scale (deg/pixel)                      \n",
       "TCRPX2  =               2048.0 / X image reference pixel                        \n",
       "TCRPX3  =               2048.0 / Y image reference pixel                        \n",
       "TCRVL2  =     188.080583006903 / X image reference coords (deg)                 \n",
       "TCRVL3  =    -48.5410555585588 / y image reference coords (deg)                 \n",
       "TP1_1   =   0.5219400441614233 / Transformation matrix                          \n",
       "TP1_2   =   0.8529821746676607 / Transformation matrix                          \n",
       "TP2_1   =   0.8529821746676607 / Transformation matrix                          \n",
       "TP2_2   =  -0.5219400441614233 / Transformation matrix                          \n",
       "EXTNAME = 'EVENTS  '           / extension name                                 "
      ]
     },
     "execution_count": 11,
     "metadata": {},
     "output_type": "execute_result"
    }
   ],
   "source": [
    "header"
   ]
  },
  {
   "cell_type": "code",
   "execution_count": 12,
   "metadata": {},
   "outputs": [
    {
     "data": {
      "text/plain": [
       "FITS_rec([(1.10823960e+08, 3982, 1230, 263),\n",
       "          (1.10823960e+08,  281,  922, 384),\n",
       "          (1.10823960e+08,  111, 1099,  68), ...,\n",
       "          (1.10825759e+08,  118, 3037, 277),\n",
       "          (1.10825760e+08, 3049, 1389,  37),\n",
       "          (1.10825760e+08, 1752, 3017, 940)],\n",
       "         dtype=(numpy.record, [('TIME', '>f8'), ('X', '>i4'), ('Y', '>i4'), ('PI', '>i4')]))"
      ]
     },
     "execution_count": 12,
     "metadata": {},
     "output_type": "execute_result"
    }
   ],
   "source": [
    "data"
   ]
  },
  {
   "cell_type": "code",
   "execution_count": 13,
   "metadata": {},
   "outputs": [
    {
     "data": {
      "text/plain": [
       "(110823960.00001997, 281, 922, 384)"
      ]
     },
     "execution_count": 13,
     "metadata": {},
     "output_type": "execute_result"
    }
   ],
   "source": [
    "data[1]"
   ]
  },
  {
   "cell_type": "code",
   "execution_count": 14,
   "metadata": {},
   "outputs": [
    {
     "data": {
      "text/plain": [
       "18296"
      ]
     },
     "execution_count": 14,
     "metadata": {},
     "output_type": "execute_result"
    }
   ],
   "source": [
    "len(data)"
   ]
  },
  {
   "cell_type": "code",
   "execution_count": null,
   "metadata": {},
   "outputs": [],
   "source": []
  }
 ],
 "metadata": {
  "kernelspec": {
   "display_name": "Python 3",
   "language": "python",
   "name": "python3"
  },
  "language_info": {
   "codemirror_mode": {
    "name": "ipython",
    "version": 3
   },
   "file_extension": ".py",
   "mimetype": "text/x-python",
   "name": "python",
   "nbconvert_exporter": "python",
   "pygments_lexer": "ipython3",
   "version": "3.7.0"
  }
 },
 "nbformat": 4,
 "nbformat_minor": 2
}
