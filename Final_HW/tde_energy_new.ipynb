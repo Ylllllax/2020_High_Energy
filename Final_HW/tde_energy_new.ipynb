{
 "cells": [
  {
   "cell_type": "code",
   "execution_count": 1,
   "metadata": {},
   "outputs": [],
   "source": [
    "import matplotlib.pyplot as plt\n",
    "import pandas as pd\n",
    "from astropy.table import Table\n",
    "import numpy as np\n",
    "from scipy.interpolate import interp1d\n",
    "import os"
   ]
  },
  {
   "cell_type": "code",
   "execution_count": 2,
   "metadata": {},
   "outputs": [],
   "source": [
    "def read_txt(path):\n",
    "    f=open(path)\n",
    "    st=f.read()\n",
    "    f.close()\n",
    "    a=st.split('\\n')\n",
    "    x=[]\n",
    "    x_err=[]\n",
    "    y=[]\n",
    "    y_err=[]\n",
    "    for i in range(3,len(a)-1):\n",
    "        b=a[i].split(' ')\n",
    "        x.append(float(b[0]))\n",
    "        x_err.append(float(b[1]))\n",
    "        y.append(float(b[2]))\n",
    "        y_err.append(float(b[3]))\n",
    "    x=np.array(x)\n",
    "    y=np.array(y)\n",
    "    x_err=np.array(x_err)\n",
    "    y_err=np.array(y_err)\n",
    "    return x,x_err,y,y_err"
   ]
  },
  {
   "cell_type": "code",
   "execution_count": 15,
   "metadata": {},
   "outputs": [
    {
     "data": {
      "image/png": "[encoded data removed]",
      "text/plain": [
       "<Figure size 720x432 with 1 Axes>"
      ]
     },
     "metadata": {
      "needs_background": "light"
     },
     "output_type": "display_data"
    }
   ],
   "source": [
    "x,x_err,y,y_err=read_txt('spec_52.txt')\n",
    "\n",
    "counts = []\n",
    "for i in range(len(y)):\n",
    "    cts = y[i]*4099440.1499995743*x[i]\n",
    "    counts.append(cts)\n",
    "counts = np.array(counts)\n",
    "\n",
    "x_new = x[counts>5]\n",
    "y_new = y[counts>5]\n",
    "xerr_new = x_err[counts>5]\n",
    "yerr_new = y_err[counts>5]\n",
    "        \n",
    "\n",
    "\n",
    "fig = plt.figure(figsize=[10,6])\n",
    "ax = fig.add_subplot(111)\n",
    "#ax.scatter(E,Count,c='blue',marker='o',s=3)\n",
    "ax.errorbar(x_new,y_new, yerr=yerr_new, xerr=xerr_new, fmt=',', color='b', elinewidth=1, capsize=2)\n",
    "ax.set_xlabel('Energy (kev)',fontsize=12)\n",
    "ax.set_yscale('log')\n",
    "ax.set_xscale('log')\n",
    "#ax.set_ylim(10**(-2),10**3)\n",
    "#ax.set_xlim(10**(-1),10**1)\n",
    "ax.set_ylabel('normalized counts $s^{-1}$ $kev^{-1}$',fontsize=12)\n",
    "plt.show()"
   ]
  },
  {
   "cell_type": "code",
   "execution_count": null,
   "metadata": {},
   "outputs": [],
   "source": []
  }
 ],
 "metadata": {
  "kernelspec": {
   "display_name": "Python 3",
   "language": "python",
   "name": "python3"
  },
  "language_info": {
   "codemirror_mode": {
    "name": "ipython",
    "version": 3
   },
   "file_extension": ".py",
   "mimetype": "text/x-python",
   "name": "python",
   "nbconvert_exporter": "python",
   "pygments_lexer": "ipython3",
   "version": "3.7.0"
  }
 },
 "nbformat": 4,
 "nbformat_minor": 2
}
