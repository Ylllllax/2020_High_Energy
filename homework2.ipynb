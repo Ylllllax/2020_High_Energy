{
 "cells": [
  {
   "cell_type": "code",
   "execution_count": 3,
   "metadata": {},
   "outputs": [],
   "source": [
    "import numpy as np\n",
    "import math"
   ]
  },
  {
   "cell_type": "code",
   "execution_count": 20,
   "metadata": {},
   "outputs": [
    {
     "name": "stdout",
     "output_type": "stream",
     "text": [
      "0.002170635034039526\n"
     ]
    }
   ],
   "source": [
    "# 7\n",
    "\n",
    "p = (math.factorial(10)/(math.factorial(6)*math.factorial(4))) * ((1/6)**6) * ((5/6)**4)\n",
    "print(p)"
   ]
  },
  {
   "cell_type": "code",
   "execution_count": 17,
   "metadata": {},
   "outputs": [
    {
     "name": "stdout",
     "output_type": "stream",
     "text": [
      "1.000000000000001\n",
      "0.08842019994110235\n",
      "0.2228150885247196\n",
      "0.27196901042688265\n",
      "0.21417192838362925\n",
      "0.12227669158256285\n",
      "Answer: 0.08034708114110334\n"
     ]
    }
   ],
   "source": [
    "# 8\n",
    "\n",
    "def p(n):   # 二项分布\n",
    "    return (math.factorial(32)/(math.factorial(32-n)*math.factorial(n))) * (0.073**n) * (0.927**(32-n))\n",
    "\n",
    "p0 = 0\n",
    "for i in range(33):   # 检验\n",
    "    p0 += p(i)\n",
    "print (p0)\n",
    "    \n",
    "print (p(0))\n",
    "print (p(1))\n",
    "print (p(2))\n",
    "print (p(3))\n",
    "print (p(4))\n",
    "print ('Answer:', 1-(p(0)+p(1)+p(2)+p(3)+p(4)))"
   ]
  },
  {
   "cell_type": "code",
   "execution_count": null,
   "metadata": {},
   "outputs": [],
   "source": []
  }
 ],
 "metadata": {
  "kernelspec": {
   "display_name": "Python 3",
   "language": "python",
   "name": "python3"
  },
  "language_info": {
   "codemirror_mode": {
    "name": "ipython",
    "version": 3
   },
   "file_extension": ".py",
   "mimetype": "text/x-python",
   "name": "python",
   "nbconvert_exporter": "python",
   "pygments_lexer": "ipython3",
   "version": "3.7.0"
  }
 },
 "nbformat": 4,
 "nbformat_minor": 2
}
